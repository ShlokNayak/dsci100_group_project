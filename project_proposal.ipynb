{
 "cells": [
  {
   "cell_type": "code",
   "execution_count": 1,
   "id": "e040e2eb-0c34-4aec-b1fd-de2db367066f",
   "metadata": {},
   "outputs": [
    {
     "name": "stderr",
     "output_type": "stream",
     "text": [
      "── \u001b[1mAttaching packages\u001b[22m ─────────────────────────────────────── tidyverse 1.3.1 ──\n",
      "\n",
      "\u001b[32m✔\u001b[39m \u001b[34mggplot2\u001b[39m 3.3.6     \u001b[32m✔\u001b[39m \u001b[34mpurrr  \u001b[39m 0.3.4\n",
      "\u001b[32m✔\u001b[39m \u001b[34mtibble \u001b[39m 3.1.7     \u001b[32m✔\u001b[39m \u001b[34mdplyr  \u001b[39m 1.0.9\n",
      "\u001b[32m✔\u001b[39m \u001b[34mtidyr  \u001b[39m 1.2.0     \u001b[32m✔\u001b[39m \u001b[34mstringr\u001b[39m 1.4.0\n",
      "\u001b[32m✔\u001b[39m \u001b[34mreadr  \u001b[39m 2.1.2     \u001b[32m✔\u001b[39m \u001b[34mforcats\u001b[39m 0.5.1\n",
      "\n",
      "── \u001b[1mConflicts\u001b[22m ────────────────────────────────────────── tidyverse_conflicts() ──\n",
      "\u001b[31m✖\u001b[39m \u001b[34mdplyr\u001b[39m::\u001b[32mfilter()\u001b[39m masks \u001b[34mstats\u001b[39m::filter()\n",
      "\u001b[31m✖\u001b[39m \u001b[34mdplyr\u001b[39m::\u001b[32mlag()\u001b[39m    masks \u001b[34mstats\u001b[39m::lag()\n",
      "\n"
     ]
    }
   ],
   "source": [
    "library(tidyverse)"
   ]
  },
  {
   "cell_type": "markdown",
   "id": "b36c771d-72db-45cd-a334-1a3ef914807f",
   "metadata": {},
   "source": [
    "Introduction\n",
    "\n",
    "Marketing is a key component in determining the success of a business and big companies spend millions on marketing alone each year. A marketing campaign that resonates with the general public and the focus group of the company can help in a huge increase in the sales of a product and can lead to an unprecedented growth of the company. \n",
    "\n",
    "Marketing campaigns, if done right, can help build a brand that disrupts the current status quo and bring in goods and services at a much more competitive pricing and quality level helping in improving the consumer’s lifestyles.\n",
    "\n",
    "However, there have been numerous instances in the past where lack of comprehensive and in depth information about the customer has cost a company fatal losses and at times, complete backlash from the people affecting the public image of a brand. \n",
    "Taking this into account, it is an absolute necessity for a company to understand the behaviour of its audience and for this, various studies have been conducted. \n",
    "\n",
    "One of them is the The customer personality analysis, extracted from Kaggle, which can be used to find out the relationship between the income levels and amount of gold purchased and how that will be useful in predicting the marital status of a given individual. \n",
    "The customer personality analysis dataset is an analysis of a company’s target audience which helps the company better focus on improving their products based on their customers’ preferences. It helps the company understand their consumers and make them more accurate while employing marketing strategies to attract more business and thus plays a vital role in the success of an ad campaign. \n"
   ]
  },
  {
   "cell_type": "code",
   "execution_count": null,
   "id": "6a33d3ab-c88c-4915-8fe0-d32fcf9f58f9",
   "metadata": {},
   "outputs": [],
   "source": []
  }
 ],
 "metadata": {
  "kernelspec": {
   "display_name": "R",
   "language": "R",
   "name": "ir"
  },
  "language_info": {
   "codemirror_mode": "r",
   "file_extension": ".r",
   "mimetype": "text/x-r-source",
   "name": "R",
   "pygments_lexer": "r",
   "version": "4.1.3"
  }
 },
 "nbformat": 4,
 "nbformat_minor": 5
}
